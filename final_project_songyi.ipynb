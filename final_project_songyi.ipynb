{
  "nbformat": 4,
  "nbformat_minor": 0,
  "metadata": {
    "colab": {
      "provenance": [],
      "authorship_tag": "ABX9TyN4OAMc1V1VfDem4MVwu6Ly",
      "include_colab_link": true
    },
    "kernelspec": {
      "name": "python3",
      "display_name": "Python 3"
    },
    "language_info": {
      "name": "python"
    }
  },
  "cells": [
    {
      "cell_type": "markdown",
      "metadata": {
        "id": "view-in-github",
        "colab_type": "text"
      },
      "source": [
        "<a href=\"https://colab.research.google.com/github/SongYi-Han/BigDataAnalysis/blob/master/final_project_songyi.ipynb\" target=\"_parent\"><img src=\"https://colab.research.google.com/assets/colab-badge.svg\" alt=\"Open In Colab\"/></a>"
      ]
    },
    {
      "cell_type": "code",
      "execution_count": 1,
      "metadata": {
        "id": "eQRORpsoW-FI",
        "colab": {
          "base_uri": "https://localhost:8080/"
        },
        "outputId": "ddc5af7d-9d79-4147-d9e4-78007055ba90"
      },
      "outputs": [
        {
          "output_type": "stream",
          "name": "stderr",
          "text": [
            "/usr/local/lib/python3.8/dist-packages/torch/cuda/__init__.py:497: UserWarning: Can't initialize NVML\n",
            "  warnings.warn(\"Can't initialize NVML\")\n",
            "[nltk_data] Downloading package stopwords to /root/nltk_data...\n",
            "[nltk_data]   Unzipping corpora/stopwords.zip.\n"
          ]
        },
        {
          "output_type": "execute_result",
          "data": {
            "text/plain": [
              "True"
            ]
          },
          "metadata": {},
          "execution_count": 1
        }
      ],
      "source": [
        "import spacy\n",
        "from spacy import displacy\n",
        "from collections import Counter\n",
        "import en_core_web_sm\n",
        "import nltk\n",
        "from nltk.corpus import stopwords\n",
        "nltk.download('stopwords')"
      ]
    },
    {
      "cell_type": "markdown",
      "source": [
        "# 1. retrieve predicate(relation) and keywords from user query \n",
        "\n",
        "more about ner : https://towardsdatascience.com/named-entity-recognition-with-nltk-and-spacy-8c4a7d88e7da"
      ],
      "metadata": {
        "id": "pirl4WpYmBY_"
      }
    },
    {
      "cell_type": "code",
      "source": [
        "#fuzzy matching\n",
        "question = 'who directed Batman 1998'\n",
        "\n",
        "'''\n",
        "Who directed The Bridge on the River Kwai?\n",
        "Who is the director of Good Will Hunting?\n",
        "Who is the director of Star Wars: Episode VI - Return of the Jedi?\n",
        "Who is the screenwriter of The Masked Gang: Cyprus?\n",
        "What is the MPAA film rating of Weathering with You?\n",
        "What is the genre of Good Neighbors?\n",
        "'''\n",
        "\n",
        "question = \"Who is the screenwriter of The Masked Gang: Cyprus?\""
      ],
      "metadata": {
        "id": "wPLr4LbZeI_O"
      },
      "execution_count": 2,
      "outputs": []
    },
    {
      "cell_type": "code",
      "source": [
        "## skip this block \n",
        "\n",
        "# condition 1 : who vs when/what => assume keywords is either O or S\n",
        "s_or_o = 'unknown'\n",
        "\n",
        "q_tokens = question.split()\n",
        "\n",
        "if q_tokens[0].lower() == 'who':\n",
        "  s_or_o = 'o'"
      ],
      "metadata": {
        "id": "VH7-VXqxd61x"
      },
      "execution_count": null,
      "outputs": []
    },
    {
      "cell_type": "code",
      "source": [
        "# remove stopwords   \n",
        "q_tokens = question.split()\n",
        "stop_words = set(stopwords.words('english'))\n",
        "q_tokens = [t for t in q_tokens if not t.lower() in stop_words]\n"
      ],
      "metadata": {
        "id": "41qOvXhGenPp"
      },
      "execution_count": 3,
      "outputs": []
    },
    {
      "cell_type": "code",
      "source": [
        "q_tokens\n",
        "q = \" \".join(q_tokens)"
      ],
      "metadata": {
        "id": "6zqwy-8yflNh"
      },
      "execution_count": 4,
      "outputs": []
    },
    {
      "cell_type": "code",
      "source": [
        "nlp = en_core_web_sm.load()\n",
        "doc = nlp(q)\n",
        "print([(X, X.ent_iob_, X.ent_type_) for X in doc])"
      ],
      "metadata": {
        "colab": {
          "base_uri": "https://localhost:8080/"
        },
        "id": "GvYJXn6PZoia",
        "outputId": "a0007115-56e6-4f21-b152-30765502f3ea"
      },
      "execution_count": 5,
      "outputs": [
        {
          "output_type": "stream",
          "name": "stdout",
          "text": [
            "[(screenwriter, 'O', ''), (Masked, 'B', 'PERSON'), (Gang, 'I', 'PERSON'), (:, 'O', ''), (Cyprus, 'O', ''), (?, 'O', '')]\n"
          ]
        }
      ]
    },
    {
      "cell_type": "code",
      "source": [
        "res = [(x.orth_,x.pos_, x.lemma_) for x in [y for y in nlp(question) if not y.is_stop and y.pos_ != 'PUNCT']]\n",
        "res                                                                      "
      ],
      "metadata": {
        "colab": {
          "base_uri": "https://localhost:8080/"
        },
        "id": "u-J3dsqvZ6qi",
        "outputId": "6f41af38-b5cc-40f5-ea4b-c6eede1b89d9"
      },
      "execution_count": 6,
      "outputs": [
        {
          "output_type": "execute_result",
          "data": {
            "text/plain": [
              "[('screenwriter', 'NOUN', 'screenwriter'),\n",
              " ('Masked', 'PROPN', 'Masked'),\n",
              " ('Gang', 'PROPN', 'Gang'),\n",
              " ('Cyprus', 'PROPN', 'Cyprus')]"
            ]
          },
          "metadata": {},
          "execution_count": 6
        }
      ]
    },
    {
      "cell_type": "code",
      "source": [
        "for t in res:\n",
        "  if t[1] == 'VERB':\n",
        "    predicate = t[0]\n",
        "\n",
        "predicate"
      ],
      "metadata": {
        "colab": {
          "base_uri": "https://localhost:8080/",
          "height": 201
        },
        "id": "KLcD0IRzizli",
        "outputId": "b0072641-3d00-4076-d7af-ce340dbe7744"
      },
      "execution_count": 9,
      "outputs": [
        {
          "output_type": "error",
          "ename": "NameError",
          "evalue": "ignored",
          "traceback": [
            "\u001b[0;31m---------------------------------------------------------------------------\u001b[0m",
            "\u001b[0;31mNameError\u001b[0m                                 Traceback (most recent call last)",
            "\u001b[0;32m<ipython-input-9-c6d74b33c261>\u001b[0m in \u001b[0;36m<module>\u001b[0;34m\u001b[0m\n\u001b[1;32m      3\u001b[0m     \u001b[0mpredicate\u001b[0m \u001b[0;34m=\u001b[0m \u001b[0mt\u001b[0m\u001b[0;34m[\u001b[0m\u001b[0;36m0\u001b[0m\u001b[0;34m]\u001b[0m\u001b[0;34m\u001b[0m\u001b[0;34m\u001b[0m\u001b[0m\n\u001b[1;32m      4\u001b[0m \u001b[0;34m\u001b[0m\u001b[0m\n\u001b[0;32m----> 5\u001b[0;31m \u001b[0mpredicate\u001b[0m\u001b[0;34m\u001b[0m\u001b[0;34m\u001b[0m\u001b[0m\n\u001b[0m",
            "\u001b[0;31mNameError\u001b[0m: name 'predicate' is not defined"
          ]
        }
      ]
    },
    {
      "cell_type": "code",
      "source": [
        "!pip install fuzzywuzzy"
      ],
      "metadata": {
        "colab": {
          "base_uri": "https://localhost:8080/"
        },
        "id": "b-gUgAkTlg8U",
        "outputId": "29ddb8db-4e35-46b6-9dea-ed7983523f0a"
      },
      "execution_count": 8,
      "outputs": [
        {
          "output_type": "stream",
          "name": "stdout",
          "text": [
            "Looking in indexes: https://pypi.org/simple, https://us-python.pkg.dev/colab-wheels/public/simple/\n",
            "Collecting fuzzywuzzy\n",
            "  Downloading fuzzywuzzy-0.18.0-py2.py3-none-any.whl (18 kB)\n",
            "Installing collected packages: fuzzywuzzy\n",
            "Successfully installed fuzzywuzzy-0.18.0\n"
          ]
        }
      ]
    },
    {
      "cell_type": "markdown",
      "source": [],
      "metadata": {
        "id": "dZ3NVgxFr2yK"
      }
    },
    {
      "cell_type": "code",
      "source": [
        "#condition 2 : capture predicate and keywords\n",
        "\n",
        "if res[0][1] == 'VERB':\n",
        "  predicate = res[0][2]\n",
        "  keywords = []\n",
        "  for r in res[1:] :\n",
        "    keywords.append(r[2])\n",
        "  keywords = \" \".join(keywords)\n",
        "  #return predicate, keywords\n",
        "else: \n",
        "  tokens = question.split(\"of \")\n",
        "  predicate = [t for t in tokens[0].split() if not t.lower() in stop_words]\n",
        "  predicate = \" \".join(predicate)\n",
        "  keywords = \" \".join(tokens[1:])\n"
      ],
      "metadata": {
        "id": "cOk46M_ehIMX"
      },
      "execution_count": 15,
      "outputs": []
    },
    {
      "cell_type": "code",
      "source": [
        "## prepared predicate (rleation of movies)\n",
        "from fuzzywuzzy import process\n",
        "\n",
        "predicates = ['genre', 'country of origin', 'publication date', 'cast member', 'director', 'based on', 'director', 'screenwriter', 'producer', 'duration']\n",
        "\n",
        "fuzzy_matching = process.extractOne(predicate, predicates)\n",
        "\n",
        "if fuzzy_matching[1] > 60 : \n",
        "  predicate = fuzzy_matching[0]\n",
        "else: \n",
        "  predicate = None\n"
      ],
      "metadata": {
        "id": "K7qc-N_ojrcU"
      },
      "execution_count": 18,
      "outputs": []
    },
    {
      "cell_type": "code",
      "source": [
        "print(predicate,keywords)"
      ],
      "metadata": {
        "colab": {
          "base_uri": "https://localhost:8080/"
        },
        "id": "Z3DU3K-asW1e",
        "outputId": "8e0b1698-f1ff-4369-8b8f-f4f59dca52f0"
      },
      "execution_count": 19,
      "outputs": [
        {
          "output_type": "stream",
          "name": "stdout",
          "text": [
            "screenwriter The Masked Gang: Cyprus?\n"
          ]
        }
      ]
    },
    {
      "cell_type": "code",
      "source": [
        "# logic : find predicate and O or S \n",
        "\n",
        "\n",
        "# condition 1) find P and keyword\n",
        "# if question is who/when/where + be + noun + of + keyword (propn)\n",
        "\n",
        "# if question is who/when/where + verb + keyword \n",
        "\n",
        "# condition 2) clarify O or S\n",
        "# if who => keyword is O, if not => S"
      ],
      "metadata": {
        "id": "7SClbrSwbpwo"
      },
      "execution_count": null,
      "outputs": []
    },
    {
      "cell_type": "markdown",
      "source": [
        "# 2. find answer from KG"
      ],
      "metadata": {
        "id": "P_SehYQomJ6k"
      }
    },
    {
      "cell_type": "code",
      "source": [
        "from google.colab import drive\n",
        "drive.mount('/content/gdrive')\n",
        "%cd /content/gdrive/MyDrive/!_2022_fall/ATAI/Project/code/data"
      ],
      "metadata": {
        "colab": {
          "base_uri": "https://localhost:8080/"
        },
        "id": "fjuR5oMCy_Dr",
        "outputId": "1db44bfe-191f-4dae-c5b4-324c68ff5b88"
      },
      "execution_count": 20,
      "outputs": [
        {
          "output_type": "stream",
          "name": "stdout",
          "text": [
            "Mounted at /content/gdrive\n",
            "/content/gdrive/MyDrive/!_2022_fall/ATAI/Project/code/data\n"
          ]
        }
      ]
    },
    {
      "cell_type": "code",
      "source": [
        "!pip install rdflib"
      ],
      "metadata": {
        "colab": {
          "base_uri": "https://localhost:8080/"
        },
        "id": "YcpJFn2IylVF",
        "outputId": "b8a7e7dc-118c-45da-cc8b-14713efc4b77"
      },
      "execution_count": 21,
      "outputs": [
        {
          "output_type": "stream",
          "name": "stdout",
          "text": [
            "Looking in indexes: https://pypi.org/simple, https://us-python.pkg.dev/colab-wheels/public/simple/\n",
            "Collecting rdflib\n",
            "  Downloading rdflib-6.2.0-py3-none-any.whl (500 kB)\n",
            "\u001b[K     |████████████████████████████████| 500 kB 25.4 MB/s \n",
            "\u001b[?25hCollecting isodate\n",
            "  Downloading isodate-0.6.1-py2.py3-none-any.whl (41 kB)\n",
            "\u001b[K     |████████████████████████████████| 41 kB 477 kB/s \n",
            "\u001b[?25hRequirement already satisfied: pyparsing in /usr/local/lib/python3.8/dist-packages (from rdflib) (3.0.9)\n",
            "Requirement already satisfied: setuptools in /usr/local/lib/python3.8/dist-packages (from rdflib) (57.4.0)\n",
            "Requirement already satisfied: six in /usr/local/lib/python3.8/dist-packages (from isodate->rdflib) (1.15.0)\n",
            "Installing collected packages: isodate, rdflib\n",
            "Successfully installed isodate-0.6.1 rdflib-6.2.0\n"
          ]
        }
      ]
    },
    {
      "cell_type": "markdown",
      "source": [
        "### load kg"
      ],
      "metadata": {
        "id": "xG0z5y8kIoMJ"
      }
    },
    {
      "cell_type": "code",
      "source": [
        "import rdflib\n",
        "\n",
        "from rdflib import Graph, URIRef, Namespace\n",
        "from rdflib.namespace import RDFS, SKOS"
      ],
      "metadata": {
        "id": "jgOLBuQeyqyh"
      },
      "execution_count": 22,
      "outputs": []
    },
    {
      "cell_type": "code",
      "source": [
        "wd = Namespace('http://www.wikidata.org/entity/')\n",
        "wdt = Namespace('http://www.wikidata.org/prop/direct/')\n",
        "wikibase = Namespace('http://wikiba.se/ontology#')\n",
        "bd =Namespace('http://www.bigdata.com/rdf#')\n",
        "rdfs = Namespace('http://www.w3.org/2000/01/rdf-schema#label')"
      ],
      "metadata": {
        "id": "I3oktMrhA49h"
      },
      "execution_count": 36,
      "outputs": []
    },
    {
      "cell_type": "code",
      "source": [
        "graph = rdflib.Graph()\n",
        "graph.parse('14_graph.nt', format='turtle')"
      ],
      "metadata": {
        "colab": {
          "base_uri": "https://localhost:8080/"
        },
        "id": "bWv3PSMHy82Q",
        "outputId": "b5528937-6fcf-4a55-8604-56ee06f3cf95"
      },
      "execution_count": 24,
      "outputs": [
        {
          "output_type": "execute_result",
          "data": {
            "text/plain": [
              "<Graph identifier=Ncc78090c5cc44dc6a70caeddc1ea4ba3 (<class 'rdflib.graph.Graph'>)>"
            ]
          },
          "metadata": {},
          "execution_count": 24
        }
      ]
    },
    {
      "cell_type": "markdown",
      "source": [
        "### find item by label"
      ],
      "metadata": {
        "id": "5hoGosqBIlQq"
      }
    },
    {
      "cell_type": "code",
      "source": [
        "# https://stackoverflow.com/questions/38527828/how-to-query-wikidata-items-using-its-labels\n",
        "qres = graph.query(\n",
        "'''\n",
        "SELECT ?item ?itemLabel\n",
        "WHERE { \n",
        "  ?item rdfs:label ?itemLabel. \n",
        "  FILTER(CONTAINS(LCASE(?itemLabel), \"batman\"@en)). \n",
        "} limit 10\n",
        "''')\n",
        "\n",
        "for row in qres:\n",
        "  print(row.item, row.itemLabel)\n",
        "  o = row.item"
      ],
      "metadata": {
        "colab": {
          "base_uri": "https://localhost:8080/"
        },
        "id": "3mukWosGCVCA",
        "outputId": "120cabd4-0cdc-4cdf-9bc1-7fc1fb5aad0f"
      },
      "execution_count": null,
      "outputs": [
        {
          "output_type": "stream",
          "name": "stdout",
          "text": [
            "http://www.wikidata.org/entity/Q16531880 Batman Beyond: The Movie\n",
            "http://www.wikidata.org/entity/Q22249835 Batman v. Superman XXX: An Axel Braun Parody\n",
            "http://www.wikidata.org/entity/Q2891534 Batman Forever – Original Music From The Motion Picture\n",
            "http://www.wikidata.org/entity/Q29011652 original script from Batman\n",
            "http://www.wikidata.org/entity/Q4869347 Batman: Dead White\n",
            "http://www.wikidata.org/entity/Q10375036 Superman/Batman: Public Enemies\n",
            "http://www.wikidata.org/entity/Q2121056 Superman/Batman: Public Enemies\n",
            "http://www.wikidata.org/entity/Q16200150 Batman: Gotham Knights\n",
            "http://www.wikidata.org/entity/Q176376 The Batman Superman Movie: World's Finest\n",
            "http://www.wikidata.org/entity/Q2891537 Batman Forever – Original Motion Picture Score Album\n"
          ]
        }
      ]
    },
    {
      "cell_type": "code",
      "source": [
        "o"
      ],
      "metadata": {
        "colab": {
          "base_uri": "https://localhost:8080/",
          "height": 35
        },
        "id": "8ZzxckMBK8Vu",
        "outputId": "32813508-7e31-480a-b82c-eb24cbdd1156"
      },
      "execution_count": null,
      "outputs": [
        {
          "output_type": "execute_result",
          "data": {
            "text/plain": [
              "rdflib.term.URIRef('http://www.wikidata.org/entity/Q2891537')"
            ],
            "application/vnd.google.colaboratory.intrinsic+json": {
              "type": "string"
            }
          },
          "metadata": {},
          "execution_count": 90
        }
      ]
    },
    {
      "cell_type": "code",
      "source": [
        "query_template = \"SELECT DISTINCT ?x ?y WHERE {{ ?x <{}> <{}>. ?x rdfs:label ?y. }}\".format(p, o)"
      ],
      "metadata": {
        "id": "t3pHmq9aARn0"
      },
      "execution_count": null,
      "outputs": []
    },
    {
      "cell_type": "code",
      "source": [
        "p = 'http://www.wikidata.org/prop/direct/P1001'\n",
        "\n",
        "query_template = \"SELECT ?label WHERE{{<{}> rdfs:label ?label .FILTER(LANG(?label) = 'en'). }}\".format(p)\n",
        "qres = graph.query(query_template)\n",
        "\n",
        "for row in qres:\n",
        "  print(row.label)\n",
        "  p = row.label"
      ],
      "metadata": {
        "colab": {
          "base_uri": "https://localhost:8080/"
        },
        "id": "FGUxAHNPNnpX",
        "outputId": "8b4d6cef-7045-4da0-9932-8ec43596884a"
      },
      "execution_count": 53,
      "outputs": [
        {
          "output_type": "stream",
          "name": "stdout",
          "text": [
            "applies to jurisdiction\n"
          ]
        }
      ]
    },
    {
      "cell_type": "code",
      "source": [
        "predicate = \"director\"\n",
        "\n",
        "query_template = f\"SELECT ?item ?itemLabel WHERE {{?item rdfs:label ?itemLabel. FILTER(CONTAINS(LCASE(?itemLabel), {predicate}@en)). }} limit 10\"\n",
        "\n",
        "qres = graph.query(query_template)\n",
        "\n",
        "for row in qres:\n",
        "  print(row.item, row.itemLabel)\n",
        "  p = row.item"
      ],
      "metadata": {
        "id": "E2O1MDNJ_Yoq"
      },
      "execution_count": null,
      "outputs": []
    },
    {
      "cell_type": "code",
      "source": [
        "pres = graph.query(\n",
        "'''\n",
        "SELECT ?predicate ?label {\n",
        "    ?predicate a rdf:Property\n",
        "    OPTIONAL { ?predicate rdfs:label ?label }\n",
        "} \n",
        "''')\n",
        "\n",
        "for row in qres:\n",
        "  print(row.item, row.itemLabel)\n",
        "  p = row.item\n"
      ],
      "metadata": {
        "colab": {
          "base_uri": "https://localhost:8080/"
        },
        "id": "39BgEOmmCH6r",
        "outputId": "02123f62-d0b5-470f-8d0d-9504bda9ff64"
      },
      "execution_count": 38,
      "outputs": [
        {
          "output_type": "stream",
          "name": "stdout",
          "text": [
            "http://www.wikidata.org/entity/Q12138255 Michael H – Profession: Director\n",
            "http://www.wikidata.org/entity/Q18169996 Director's Cut\n",
            "http://www.wikidata.org/entity/Q29512115 ‘Captain Marvel’ Finds Directors in Anna Boden, Ryan Fleck (EXCLUSIVE)\n",
            "http://www.wikidata.org/entity/Q3224528 The Wedding Director\n",
            "http://www.wikidata.org/entity/Q52028617 Daredevil: The Director's Cut\n",
            "http://www.wikidata.org/prop/direct/P1037 director / manager\n",
            "http://www.wikidata.org/prop/direct/P3174 art director\n",
            "http://www.wikidata.org/entity/Q706364 art director\n",
            "http://www.wikidata.org/prop/direct/P344 director of photography\n",
            "http://www.wikidata.org/prop/direct/P57 director\n"
          ]
        }
      ]
    },
    {
      "cell_type": "code",
      "source": [
        "qres = graph.query(\n",
        "'''\n",
        "SELECT ?item ?itemLabel\n",
        "WHERE { \n",
        "  ?item rdfs:label ?itemLabel. \n",
        "  FILTER(CONTAINS(LCASE(?itemLabel), \"director\"@en)). \n",
        "} limit 10\n",
        "''')\n",
        "\n",
        "for row in qres:\n",
        "  print(row.item, row.itemLabel)\n",
        "  p = row.item"
      ],
      "metadata": {
        "colab": {
          "base_uri": "https://localhost:8080/"
        },
        "id": "gG1fnGR4JtZ2",
        "outputId": "84e66e78-d73a-40dc-9d7d-389484bd41f5"
      },
      "execution_count": 25,
      "outputs": [
        {
          "output_type": "stream",
          "name": "stdout",
          "text": [
            "http://www.wikidata.org/entity/Q12138255 Michael H – Profession: Director\n",
            "http://www.wikidata.org/entity/Q18169996 Director's Cut\n",
            "http://www.wikidata.org/entity/Q29512115 ‘Captain Marvel’ Finds Directors in Anna Boden, Ryan Fleck (EXCLUSIVE)\n",
            "http://www.wikidata.org/entity/Q3224528 The Wedding Director\n",
            "http://www.wikidata.org/entity/Q52028617 Daredevil: The Director's Cut\n",
            "http://www.wikidata.org/prop/direct/P1037 director / manager\n",
            "http://www.wikidata.org/prop/direct/P3174 art director\n",
            "http://www.wikidata.org/entity/Q706364 art director\n",
            "http://www.wikidata.org/prop/direct/P344 director of photography\n",
            "http://www.wikidata.org/prop/direct/P57 director\n"
          ]
        }
      ]
    },
    {
      "cell_type": "markdown",
      "source": [
        "TEST"
      ],
      "metadata": {
        "id": "8LwkTnqTAO-i"
      }
    },
    {
      "cell_type": "markdown",
      "source": [
        "# Print result"
      ],
      "metadata": {
        "id": "s5qA3E6QAYXk"
      }
    },
    {
      "cell_type": "code",
      "source": [
        "#prefix wdt: <http://www.wikidata.org/prop/direct/> \n",
        "#prefix wd: <http://www.wikidata.org/entity/> \n",
        "# ?item wdt:P131 wd:Q72"
      ],
      "metadata": {
        "id": "y6Kwfcdpd-nm"
      },
      "execution_count": null,
      "outputs": []
    },
    {
      "cell_type": "code",
      "source": [
        "query_template = \"SELECT DISTINCT ?x ?y WHERE {{ ?x <{}> <{}>. ?x rdfs:label ?y. }}\".format(p, o)\n",
        "\n",
        "print(\"--- sparql query: {}\".format(query_template))\n",
        "\n",
        "qres = g.query(query_template)\n",
        "\n",
        "print(\"\\n--- querying results: \")\n",
        "for row in qres:\n",
        "    print(row.x, row.y)\n",
        "    answer = row.y"
      ],
      "metadata": {
        "colab": {
          "base_uri": "https://localhost:8080/"
        },
        "id": "dkw_2OBHJwx_",
        "outputId": "a479a91c-30fa-4306-e4a3-9ca8e786e0a2"
      },
      "execution_count": null,
      "outputs": [
        {
          "output_type": "stream",
          "name": "stdout",
          "text": [
            "--- sparql query: SELECT DISTINCT ?x ?y WHERE { ?x <http://www.wikidata.org/prop/direct/P57> <http://www.wikidata.org/entity/Q2891537>. ?x rdfs:label ?y. }\n",
            "\n",
            "--- querying results: \n"
          ]
        }
      ]
    },
    {
      "cell_type": "code",
      "source": [
        "# ?item wdt:P131 wd:Q72\n",
        "query_template = \"SELECT ?item ?label WHERE { ?item <http://www.wikidata.org/prop/direct/P131> <http://www.wikidata.org/entity/Q72>. ?item rdfs:label ?label. }\"\n",
        "\n",
        "qres = graph.query(query_template)\n",
        "\n",
        "print(\"\\n--- querying results: \")\n",
        "\n",
        "for row in qres:\n",
        "  print(row.item, row.label)\n",
        "\n"
      ],
      "metadata": {
        "colab": {
          "base_uri": "https://localhost:8080/"
        },
        "id": "WtkyGlECNBcl",
        "outputId": "21a0f1aa-0eb9-43fa-9a4b-9058967099ca"
      },
      "execution_count": null,
      "outputs": [
        {
          "output_type": "stream",
          "name": "stdout",
          "text": [
            "\n",
            "--- querying results: \n",
            "http://www.wikidata.org/entity/Q692578 Dolder Grand\n",
            "http://www.wikidata.org/entity/Q222450 Zurich University of the Arts\n"
          ]
        }
      ]
    },
    {
      "cell_type": "code",
      "source": [],
      "metadata": {
        "id": "Z3cKoD6mfkLR"
      },
      "execution_count": null,
      "outputs": []
    },
    {
      "cell_type": "code",
      "source": [
        "#p: director, o: batman vs superman\n",
        "query_template = \"SELECT ?item ?label WHERE { <http://www.wikidata.org/entity/Q2891537> <http://www.wikidata.org/prop/direct/P175> ?item . ?item rdfs:label ?label. }\"\n",
        "\n",
        "qres = graph.query(query_template)\n",
        "\n",
        "print(\"\\n--- querying results: \")\n",
        "\n",
        "for row in qres:\n",
        "  print(row.item, row.label)\n",
        "\n"
      ],
      "metadata": {
        "colab": {
          "base_uri": "https://localhost:8080/"
        },
        "id": "SQqgGiFTei6_",
        "outputId": "0c956ea4-d1af-4d6e-8159-0a99824b5eaf"
      },
      "execution_count": null,
      "outputs": [
        {
          "output_type": "stream",
          "name": "stdout",
          "text": [
            "\n",
            "--- querying results: \n",
            "http://www.wikidata.org/entity/Q264565 Elliot Goldenthal\n"
          ]
        }
      ]
    },
    {
      "cell_type": "code",
      "source": [
        "answer_template = \"Hi, the {} of {} is {}\".format(relation, entity, answer)\n",
        "\n",
        "print(\"\\n--- generated response: {}\".format(answer_template))"
      ],
      "metadata": {
        "id": "uhub3PcPvkTt"
      },
      "execution_count": null,
      "outputs": []
    },
    {
      "cell_type": "code",
      "source": [
        "query= \"SELECT ?s ?sLabel WHERE { ?s rdfs:label \"rating\"@en . SERVICE wikibase:label { bd:serviceParam wikibase:language \"en\" . } } \" \n",
        "qres = g.query(query_template)\n",
        "\n",
        "qres "
      ],
      "metadata": {
        "id": "c9_86cgHvkNv"
      },
      "execution_count": null,
      "outputs": []
    },
    {
      "cell_type": "markdown",
      "source": [
        "# Embedding"
      ],
      "metadata": {
        "id": "AML2MMVkzRkA"
      }
    },
    {
      "cell_type": "code",
      "source": [
        "import csv\n",
        "import numpy as np\n",
        "import os\n",
        "import rdflib\n",
        "import pandas as pd\n",
        "from sklearn.metrics import pairwise_distances"
      ],
      "metadata": {
        "id": "JE3vpE3XzROn"
      },
      "execution_count": null,
      "outputs": []
    },
    {
      "cell_type": "code",
      "source": [
        "# define some prefixes\n",
        "WD = rdflib.Namespace('http://www.wikidata.org/entity/')\n",
        "WDT = rdflib.Namespace('http://www.wikidata.org/prop/direct/')\n",
        "DDIS = rdflib.Namespace('http://ddis.ch/atai/')\n",
        "RDFS = rdflib.namespace.RDFS\n",
        "SCHEMA = rdflib.Namespace('http://schema.org/')"
      ],
      "metadata": {
        "id": "0yi4dVWgzUFu"
      },
      "execution_count": null,
      "outputs": []
    },
    {
      "cell_type": "code",
      "source": [
        "# load the embeddings\n",
        "entity_emb = np.load('entity_embeds.npy')\n",
        "relation_emb = np.load('relation_embeds.npy')\n",
        "entity_file = 'entity_ids.del'\n",
        "relation_file = 'relation_ids.del'"
      ],
      "metadata": {
        "id": "P3myOcGNzVsE"
      },
      "execution_count": null,
      "outputs": []
    },
    {
      "cell_type": "code",
      "source": [
        "# load the dictionaries\n",
        "with open(entity_file, 'r') as ifile:\n",
        "    ent2id = {rdflib.term.URIRef(ent): int(idx) for idx, ent in csv.reader(ifile, delimiter='\\t')}\n",
        "    id2ent = {v: k for k, v in ent2id.items()}\n",
        "with open(relation_file, 'r') as ifile:\n",
        "    rel2id = {rdflib.term.URIRef(rel): int(idx) for idx, rel in csv.reader(ifile, delimiter='\\t')}\n",
        "    id2rel = {v: k for k, v in rel2id.items()}"
      ],
      "metadata": {
        "id": "obMKRGkj0hp-"
      },
      "execution_count": null,
      "outputs": []
    },
    {
      "cell_type": "code",
      "source": [
        "ent2lbl = {ent: str(lbl) for ent, lbl in graph.subject_objects(RDFS.label)}\n",
        "lbl2ent = {lbl: ent for ent, lbl in ent2lbl.items()}"
      ],
      "metadata": {
        "id": "3t7Frd6u0lc9"
      },
      "execution_count": null,
      "outputs": []
    },
    {
      "cell_type": "code",
      "source": [
        "rel2lbl = {rel: str(lbl) for rel, lbl in graph.predicates(RDFS.label)}\n",
        "lbl2rel = {lbl: ent for ent, lbl in rel2lbl.items()}"
      ],
      "metadata": {
        "id": "D6-toVIFAw-A"
      },
      "execution_count": null,
      "outputs": []
    },
    {
      "cell_type": "code",
      "source": [
        "predicates = set(graph.predicates())\n",
        "predicates_url = [str(i.lstrip(\"rdflib.term.URIRef(\")) for i in predicates]"
      ],
      "metadata": {
        "id": "AHLngXwADaeR"
      },
      "execution_count": 50,
      "outputs": []
    },
    {
      "cell_type": "code",
      "source": [
        "predicates = [rdflib.term.URIRef('http://www.wikidata.org/prop/direct/P1001'),\n",
        " rdflib.term.URIRef('http://www.wikidata.org/prop/direct/P101'),\n",
        " rdflib.term.URIRef('http://www.wikidata.org/prop/direct/P1027'),\n",
        " rdflib.term.URIRef('http://www.wikidata.org/prop/direct/P1029'),\n",
        " rdflib.term.URIRef('http://www.wikidata.org/prop/direct/P103'),\n",
        " rdflib.term.URIRef('http://www.wikidata.org/prop/direct/P1037'),\n",
        " rdflib.term.URIRef('http://www.wikidata.org/prop/direct/P1038'),\n",
        " rdflib.term.URIRef('http://www.wikidata.org/prop/direct/P1040'),\n",
        " rdflib.term.URIRef('http://www.wikidata.org/prop/direct/P1050'),\n",
        " rdflib.term.URIRef('http://www.wikidata.org/prop/direct/P1056'),\n",
        " rdflib.term.URIRef('http://www.wikidata.org/prop/direct/P106'),\n",
        " rdflib.term.URIRef('http://www.wikidata.org/prop/direct/P1066'),\n",
        " rdflib.term.URIRef('http://www.wikidata.org/prop/direct/P108'),\n",
        " rdflib.term.URIRef('http://www.wikidata.org/prop/direct/P1080'),\n",
        " rdflib.term.URIRef('http://www.wikidata.org/prop/direct/P112'),\n",
        " rdflib.term.URIRef('http://www.wikidata.org/prop/direct/P1142'),\n",
        " rdflib.term.URIRef('http://www.wikidata.org/prop/direct/P1165'),\n",
        " rdflib.term.URIRef('http://www.wikidata.org/prop/direct/P119'),\n",
        " rdflib.term.URIRef('http://www.wikidata.org/prop/direct/P1196'),\n",
        " rdflib.term.URIRef('http://www.wikidata.org/prop/direct/P123'),\n",
        " rdflib.term.URIRef('http://www.wikidata.org/prop/direct/P1269'),\n",
        " rdflib.term.URIRef('http://www.wikidata.org/prop/direct/P127'),\n",
        " rdflib.term.URIRef('http://www.wikidata.org/prop/direct/P1299'),\n",
        " rdflib.term.URIRef('http://www.wikidata.org/prop/direct/P131'),\n",
        " rdflib.term.URIRef('http://www.wikidata.org/prop/direct/P1327'),\n",
        " rdflib.term.URIRef('http://www.wikidata.org/prop/direct/P1343'),\n",
        " rdflib.term.URIRef('http://www.wikidata.org/prop/direct/P1344'),\n",
        " rdflib.term.URIRef('http://www.wikidata.org/prop/direct/P1346'),\n",
        " rdflib.term.URIRef('http://www.wikidata.org/prop/direct/P135'),\n",
        " rdflib.term.URIRef('http://www.wikidata.org/prop/direct/P136'),\n",
        " rdflib.term.URIRef('http://www.wikidata.org/prop/direct/P1365'),\n",
        " rdflib.term.URIRef('http://www.wikidata.org/prop/direct/P1366'),\n",
        " rdflib.term.URIRef('http://www.wikidata.org/prop/direct/P137'),\n",
        " rdflib.term.URIRef('http://www.wikidata.org/prop/direct/P1376'),\n",
        " rdflib.term.URIRef('http://www.wikidata.org/prop/direct/P138'),\n",
        " rdflib.term.URIRef('http://www.wikidata.org/prop/direct/P1382'),\n",
        " rdflib.term.URIRef('http://www.wikidata.org/prop/direct/P1399'),\n",
        " rdflib.term.URIRef('http://www.wikidata.org/prop/direct/P140'),\n",
        " rdflib.term.URIRef('http://www.wikidata.org/prop/direct/P1411'),\n",
        " rdflib.term.URIRef('http://www.wikidata.org/prop/direct/P1412'),\n",
        " rdflib.term.URIRef('http://www.wikidata.org/prop/direct/P1416'),\n",
        " rdflib.term.URIRef('http://www.wikidata.org/prop/direct/P1429'),\n",
        " rdflib.term.URIRef('http://www.wikidata.org/prop/direct/P1431'),\n",
        " rdflib.term.URIRef('http://www.wikidata.org/prop/direct/P1433'),\n",
        " rdflib.term.URIRef('http://www.wikidata.org/prop/direct/P1434'),\n",
        " rdflib.term.URIRef('http://www.wikidata.org/prop/direct/P144'),\n",
        " rdflib.term.URIRef('http://www.wikidata.org/prop/direct/P1441'),\n",
        " rdflib.term.URIRef('http://www.wikidata.org/prop/direct/P1445'),\n",
        " rdflib.term.URIRef('http://www.wikidata.org/prop/direct/P1455'),\n",
        " rdflib.term.URIRef('http://www.wikidata.org/prop/direct/P150'),\n",
        " rdflib.term.URIRef('http://www.wikidata.org/prop/direct/P1532'),\n",
        " rdflib.term.URIRef('http://www.wikidata.org/prop/direct/P1542'),\n",
        " rdflib.term.URIRef('http://www.wikidata.org/prop/direct/P155'),\n",
        " rdflib.term.URIRef('http://www.wikidata.org/prop/direct/P1552'),\n",
        " rdflib.term.URIRef('http://www.wikidata.org/prop/direct/P156'),\n",
        " rdflib.term.URIRef('http://www.wikidata.org/prop/direct/P157'),\n",
        " rdflib.term.URIRef('http://www.wikidata.org/prop/direct/P1576'),\n",
        " rdflib.term.URIRef('http://www.wikidata.org/prop/direct/P1589'),\n",
        " rdflib.term.URIRef('http://www.wikidata.org/prop/direct/P159'),\n",
        " rdflib.term.URIRef('http://www.wikidata.org/prop/direct/P161'),\n",
        " rdflib.term.URIRef('http://www.wikidata.org/prop/direct/P1657'),\n",
        " rdflib.term.URIRef('http://www.wikidata.org/prop/direct/P166'),\n",
        " rdflib.term.URIRef('http://www.wikidata.org/prop/direct/P17'),\n",
        " rdflib.term.URIRef('http://www.wikidata.org/prop/direct/P170'),\n",
        " rdflib.term.URIRef('http://www.wikidata.org/prop/direct/P172'),\n",
        " rdflib.term.URIRef('http://www.wikidata.org/prop/direct/P175'),\n",
        " rdflib.term.URIRef('http://www.wikidata.org/prop/direct/P178'),\n",
        " rdflib.term.URIRef('http://www.wikidata.org/prop/direct/P179'),\n",
        " rdflib.term.URIRef('http://www.wikidata.org/prop/direct/P18'),\n",
        " rdflib.term.URIRef('http://www.wikidata.org/prop/direct/P180'),\n",
        " rdflib.term.URIRef('http://www.wikidata.org/prop/direct/P1809'),\n",
        " rdflib.term.URIRef('http://www.wikidata.org/prop/direct/P1830'),\n",
        " rdflib.term.URIRef('http://www.wikidata.org/prop/direct/P1875'),\n",
        " rdflib.term.URIRef('http://www.wikidata.org/prop/direct/P1877'),\n",
        " rdflib.term.URIRef('http://www.wikidata.org/prop/direct/P1889'),\n",
        " rdflib.term.URIRef('http://www.wikidata.org/prop/direct/P19'),\n",
        " rdflib.term.URIRef('http://www.wikidata.org/prop/direct/P190'),\n",
        " rdflib.term.URIRef('http://www.wikidata.org/prop/direct/P195'),\n",
        " rdflib.term.URIRef('http://www.wikidata.org/prop/direct/P1981'),\n",
        " rdflib.term.URIRef('http://www.wikidata.org/prop/direct/P1995'),\n",
        " rdflib.term.URIRef('http://www.wikidata.org/prop/direct/P20'),\n",
        " rdflib.term.URIRef('http://www.wikidata.org/prop/direct/P205'),\n",
        " rdflib.term.URIRef('http://www.wikidata.org/prop/direct/P206'),\n",
        " rdflib.term.URIRef('http://www.wikidata.org/prop/direct/P2061'),\n",
        " rdflib.term.URIRef('http://www.wikidata.org/prop/direct/P2079'),\n",
        " rdflib.term.URIRef('http://www.wikidata.org/prop/direct/P21'),\n",
        " rdflib.term.URIRef('http://www.wikidata.org/prop/direct/P2142'),\n",
        " rdflib.term.URIRef('http://www.wikidata.org/prop/direct/P22'),\n",
        " rdflib.term.URIRef('http://www.wikidata.org/prop/direct/P2283'),\n",
        " rdflib.term.URIRef('http://www.wikidata.org/prop/direct/P2341'),\n",
        " rdflib.term.URIRef('http://www.wikidata.org/prop/direct/P2348'),\n",
        " rdflib.term.URIRef('http://www.wikidata.org/prop/direct/P2360'),\n",
        " rdflib.term.URIRef('http://www.wikidata.org/prop/direct/P2363'),\n",
        " rdflib.term.URIRef('http://www.wikidata.org/prop/direct/P2408'),\n",
        " rdflib.term.URIRef('http://www.wikidata.org/prop/direct/P241'),\n",
        " rdflib.term.URIRef('http://www.wikidata.org/prop/direct/P2416'),\n",
        " rdflib.term.URIRef('http://www.wikidata.org/prop/direct/P2438'),\n",
        " rdflib.term.URIRef('http://www.wikidata.org/prop/direct/P25'),\n",
        " rdflib.term.URIRef('http://www.wikidata.org/prop/direct/P2515'),\n",
        " rdflib.term.URIRef('http://www.wikidata.org/prop/direct/P2541'),\n",
        " rdflib.term.URIRef('http://www.wikidata.org/prop/direct/P2546'),\n",
        " rdflib.term.URIRef('http://www.wikidata.org/prop/direct/P2554'),\n",
        " rdflib.term.URIRef('http://www.wikidata.org/prop/direct/P2563'),\n",
        " rdflib.term.URIRef('http://www.wikidata.org/prop/direct/P26'),\n",
        " rdflib.term.URIRef('http://www.wikidata.org/prop/direct/P2629'),\n",
        " rdflib.term.URIRef('http://www.wikidata.org/prop/direct/P263'),\n",
        " rdflib.term.URIRef('http://www.wikidata.org/prop/direct/P2632'),\n",
        " rdflib.term.URIRef('http://www.wikidata.org/prop/direct/P2637'),\n",
        " rdflib.term.URIRef('http://www.wikidata.org/prop/direct/P2650'),\n",
        " rdflib.term.URIRef('http://www.wikidata.org/prop/direct/P2684'),\n",
        " rdflib.term.URIRef('http://www.wikidata.org/prop/direct/P27'),\n",
        " rdflib.term.URIRef('http://www.wikidata.org/prop/direct/P272'),\n",
        " rdflib.term.URIRef('http://www.wikidata.org/prop/direct/P2747'),\n",
        " rdflib.term.URIRef('http://www.wikidata.org/prop/direct/P275'),\n",
        " rdflib.term.URIRef('http://www.wikidata.org/prop/direct/P2756'),\n",
        " rdflib.term.URIRef('http://www.wikidata.org/prop/direct/P2758'),\n",
        " rdflib.term.URIRef('http://www.wikidata.org/prop/direct/P276'),\n",
        " rdflib.term.URIRef('http://www.wikidata.org/prop/direct/P279'),\n",
        " rdflib.term.URIRef('http://www.wikidata.org/prop/direct/P2860'),\n",
        " rdflib.term.URIRef('http://www.wikidata.org/prop/direct/P287'),\n",
        " rdflib.term.URIRef('http://www.wikidata.org/prop/direct/P291'),\n",
        " rdflib.term.URIRef('http://www.wikidata.org/prop/direct/P2936'),\n",
        " rdflib.term.URIRef('http://www.wikidata.org/prop/direct/P30'),\n",
        " rdflib.term.URIRef('http://www.wikidata.org/prop/direct/P306'),\n",
        " rdflib.term.URIRef('http://www.wikidata.org/prop/direct/P3092'),\n",
        " rdflib.term.URIRef('http://www.wikidata.org/prop/direct/P3095'),\n",
        " rdflib.term.URIRef('http://www.wikidata.org/prop/direct/P31'),\n",
        " rdflib.term.URIRef('http://www.wikidata.org/prop/direct/P3156'),\n",
        " rdflib.term.URIRef('http://www.wikidata.org/prop/direct/P3174'),\n",
        " rdflib.term.URIRef('http://www.wikidata.org/prop/direct/P3216'),\n",
        " rdflib.term.URIRef('http://www.wikidata.org/prop/direct/P3275'),\n",
        " rdflib.term.URIRef('http://www.wikidata.org/prop/direct/P3300'),\n",
        " rdflib.term.URIRef('http://www.wikidata.org/prop/direct/P3301'),\n",
        " rdflib.term.URIRef('http://www.wikidata.org/prop/direct/P3306'),\n",
        " rdflib.term.URIRef('http://www.wikidata.org/prop/direct/P3342'),\n",
        " rdflib.term.URIRef('http://www.wikidata.org/prop/direct/P3373'),\n",
        " rdflib.term.URIRef('http://www.wikidata.org/prop/direct/P3402'),\n",
        " rdflib.term.URIRef('http://www.wikidata.org/prop/direct/P3428'),\n",
        " rdflib.term.URIRef('http://www.wikidata.org/prop/direct/P344'),\n",
        " rdflib.term.URIRef('http://www.wikidata.org/prop/direct/P3448'),\n",
        " rdflib.term.URIRef('http://www.wikidata.org/prop/direct/P345'),\n",
        " rdflib.term.URIRef('http://www.wikidata.org/prop/direct/P35'),\n",
        " rdflib.term.URIRef('http://www.wikidata.org/prop/direct/P36'),\n",
        " rdflib.term.URIRef('http://www.wikidata.org/prop/direct/P361'),\n",
        " rdflib.term.URIRef('http://www.wikidata.org/prop/direct/P364'),\n",
        " rdflib.term.URIRef('http://www.wikidata.org/prop/direct/P3650'),\n",
        " rdflib.term.URIRef('http://www.wikidata.org/prop/direct/P366'),\n",
        " rdflib.term.URIRef('http://www.wikidata.org/prop/direct/P37'),\n",
        " rdflib.term.URIRef('http://www.wikidata.org/prop/direct/P371'),\n",
        " rdflib.term.URIRef('http://www.wikidata.org/prop/direct/P3803'),\n",
        " rdflib.term.URIRef('http://www.wikidata.org/prop/direct/P3818'),\n",
        " rdflib.term.URIRef('http://www.wikidata.org/prop/direct/P3834'),\n",
        " rdflib.term.URIRef('http://www.wikidata.org/prop/direct/P3842'),\n",
        " rdflib.term.URIRef('http://www.wikidata.org/prop/direct/P3931'),\n",
        " rdflib.term.URIRef('http://www.wikidata.org/prop/direct/P40'),\n",
        " rdflib.term.URIRef('http://www.wikidata.org/prop/direct/P400'),\n",
        " rdflib.term.URIRef('http://www.wikidata.org/prop/direct/P407'),\n",
        " rdflib.term.URIRef('http://www.wikidata.org/prop/direct/P425'),\n",
        " rdflib.term.URIRef('http://www.wikidata.org/prop/direct/P437'),\n",
        " rdflib.term.URIRef('http://www.wikidata.org/prop/direct/P4437'),\n",
        " rdflib.term.URIRef('http://www.wikidata.org/prop/direct/P449'),\n",
        " rdflib.term.URIRef('http://www.wikidata.org/prop/direct/P451'),\n",
        " rdflib.term.URIRef('http://www.wikidata.org/prop/direct/P452'),\n",
        " rdflib.term.URIRef('http://www.wikidata.org/prop/direct/P4584'),\n",
        " rdflib.term.URIRef('http://www.wikidata.org/prop/direct/P460'),\n",
        " rdflib.term.URIRef('http://www.wikidata.org/prop/direct/P4608'),\n",
        " rdflib.term.URIRef('http://www.wikidata.org/prop/direct/P461'),\n",
        " rdflib.term.URIRef('http://www.wikidata.org/prop/direct/P462'),\n",
        " rdflib.term.URIRef('http://www.wikidata.org/prop/direct/P463'),\n",
        " rdflib.term.URIRef('http://www.wikidata.org/prop/direct/P466'),\n",
        " rdflib.term.URIRef('http://www.wikidata.org/prop/direct/P47'),\n",
        " rdflib.term.URIRef('http://www.wikidata.org/prop/direct/P479'),\n",
        " rdflib.term.URIRef('http://www.wikidata.org/prop/direct/P4805'),\n",
        " rdflib.term.URIRef('http://www.wikidata.org/prop/direct/P485'),\n",
        " rdflib.term.URIRef('http://www.wikidata.org/prop/direct/P4908'),\n",
        " rdflib.term.URIRef('http://www.wikidata.org/prop/direct/P495'),\n",
        " rdflib.term.URIRef('http://www.wikidata.org/prop/direct/P4969'),\n",
        " rdflib.term.URIRef('http://www.wikidata.org/prop/direct/P50'),\n",
        " rdflib.term.URIRef('http://www.wikidata.org/prop/direct/P5021'),\n",
        " rdflib.term.URIRef('http://www.wikidata.org/prop/direct/P5028'),\n",
        " rdflib.term.URIRef('http://www.wikidata.org/prop/direct/P5072'),\n",
        " rdflib.term.URIRef('http://www.wikidata.org/prop/direct/P509'),\n",
        " rdflib.term.URIRef('http://www.wikidata.org/prop/direct/P5096'),\n",
        " rdflib.term.URIRef('http://www.wikidata.org/prop/direct/P5150'),\n",
        " rdflib.term.URIRef('http://www.wikidata.org/prop/direct/P5152'),\n",
        " rdflib.term.URIRef('http://www.wikidata.org/prop/direct/P5201'),\n",
        " rdflib.term.URIRef('http://www.wikidata.org/prop/direct/P527'),\n",
        " rdflib.term.URIRef('http://www.wikidata.org/prop/direct/P530'),\n",
        " rdflib.term.URIRef('http://www.wikidata.org/prop/direct/P5389'),\n",
        " rdflib.term.URIRef('http://www.wikidata.org/prop/direct/P54'),\n",
        " rdflib.term.URIRef('http://www.wikidata.org/prop/direct/P551'),\n",
        " rdflib.term.URIRef('http://www.wikidata.org/prop/direct/P57'),\n",
        " rdflib.term.URIRef('http://www.wikidata.org/prop/direct/P577'),\n",
        " rdflib.term.URIRef('http://www.wikidata.org/prop/direct/P58'),\n",
        " rdflib.term.URIRef('http://www.wikidata.org/prop/direct/P5940'),\n",
        " rdflib.term.URIRef('http://www.wikidata.org/prop/direct/P5970'),\n",
        " rdflib.term.URIRef('http://www.wikidata.org/prop/direct/P6'),\n",
        " rdflib.term.URIRef('http://www.wikidata.org/prop/direct/P607'),\n",
        " rdflib.term.URIRef('http://www.wikidata.org/prop/direct/P6166'),\n",
        " rdflib.term.URIRef('http://www.wikidata.org/prop/direct/P6216'),\n",
        " rdflib.term.URIRef('http://www.wikidata.org/prop/direct/P6275'),\n",
        " rdflib.term.URIRef('http://www.wikidata.org/prop/direct/P629'),\n",
        " rdflib.term.URIRef('http://www.wikidata.org/prop/direct/P6379'),\n",
        " rdflib.term.URIRef('http://www.wikidata.org/prop/direct/P641'),\n",
        " rdflib.term.URIRef('http://www.wikidata.org/prop/direct/P66'),\n",
        " rdflib.term.URIRef('http://www.wikidata.org/prop/direct/P6658'),\n",
        " rdflib.term.URIRef('http://www.wikidata.org/prop/direct/P669'),\n",
        " rdflib.term.URIRef('http://www.wikidata.org/prop/direct/P674'),\n",
        " rdflib.term.URIRef('http://www.wikidata.org/prop/direct/P6886'),\n",
        " rdflib.term.URIRef('http://www.wikidata.org/prop/direct/P69'),\n",
        " rdflib.term.URIRef('http://www.wikidata.org/prop/direct/P6942'),\n",
        " rdflib.term.URIRef('http://www.wikidata.org/prop/direct/P6962'),\n",
        " rdflib.term.URIRef('http://www.wikidata.org/prop/direct/P7047'),\n",
        " rdflib.term.URIRef('http://www.wikidata.org/prop/direct/P706'),\n",
        " rdflib.term.URIRef('http://www.wikidata.org/prop/direct/P710'),\n",
        " rdflib.term.URIRef('http://www.wikidata.org/prop/direct/P725'),\n",
        " rdflib.term.URIRef('http://www.wikidata.org/prop/direct/P7327'),\n",
        " rdflib.term.URIRef('http://www.wikidata.org/prop/direct/P735'),\n",
        " rdflib.term.URIRef('http://www.wikidata.org/prop/direct/P737'),\n",
        " rdflib.term.URIRef('http://www.wikidata.org/prop/direct/P740'),\n",
        " rdflib.term.URIRef('http://www.wikidata.org/prop/direct/P747'),\n",
        " rdflib.term.URIRef('http://www.wikidata.org/prop/direct/P749'),\n",
        " rdflib.term.URIRef('http://www.wikidata.org/prop/direct/P750'),\n",
        " rdflib.term.URIRef('http://www.wikidata.org/prop/direct/P7573'),\n",
        " rdflib.term.URIRef('http://www.wikidata.org/prop/direct/P767'),\n",
        " rdflib.term.URIRef('http://www.wikidata.org/prop/direct/P793'),\n",
        " rdflib.term.URIRef('http://www.wikidata.org/prop/direct/P7936'),\n",
        " rdflib.term.URIRef('http://www.wikidata.org/prop/direct/P7937'),\n",
        " rdflib.term.URIRef('http://www.wikidata.org/prop/direct/P7959'),\n",
        " rdflib.term.URIRef('http://www.wikidata.org/prop/direct/P800'),\n",
        " rdflib.term.URIRef('http://www.wikidata.org/prop/direct/P802'),\n",
        " rdflib.term.URIRef('http://www.wikidata.org/prop/direct/P825'),\n",
        " rdflib.term.URIRef('http://www.wikidata.org/prop/direct/P828'),\n",
        " rdflib.term.URIRef('http://www.wikidata.org/prop/direct/P832'),\n",
        " rdflib.term.URIRef('http://www.wikidata.org/prop/direct/P8345'),\n",
        " rdflib.term.URIRef('http://www.wikidata.org/prop/direct/P8371'),\n",
        " rdflib.term.URIRef('http://www.wikidata.org/prop/direct/P840'),\n",
        " rdflib.term.URIRef('http://www.wikidata.org/prop/direct/P8411'),\n",
        " rdflib.term.URIRef('http://www.wikidata.org/prop/direct/P8670'),\n",
        " rdflib.term.URIRef('http://www.wikidata.org/prop/direct/P8874'),\n",
        " rdflib.term.URIRef('http://www.wikidata.org/prop/direct/P8889'),\n",
        " rdflib.term.URIRef('http://www.wikidata.org/prop/direct/P9086'),\n",
        " rdflib.term.URIRef('http://www.wikidata.org/prop/direct/P91'),\n",
        " rdflib.term.URIRef('http://www.wikidata.org/prop/direct/P915'),\n",
        " rdflib.term.URIRef('http://www.wikidata.org/prop/direct/P921'),\n",
        " rdflib.term.URIRef('http://www.wikidata.org/prop/direct/P9215'),\n",
        " rdflib.term.URIRef('http://www.wikidata.org/prop/direct/P931'),\n",
        " rdflib.term.URIRef('http://www.wikidata.org/prop/direct/P937'),\n",
        " rdflib.term.URIRef('http://www.wikidata.org/prop/direct/P941'),\n",
        " rdflib.term.URIRef('http://www.wikidata.org/prop/direct/P945'),\n",
        " rdflib.term.URIRef('http://www.wikidata.org/prop/direct/P97')]"
      ],
      "metadata": {
        "id": "fK3kkeUPD6N_"
      },
      "execution_count": 93,
      "outputs": []
    },
    {
      "cell_type": "code",
      "source": [
        "predicates_url = [str(i.lstrip(\"rdflib.term.URIRef(\")) for i in predicates]\n",
        "predicates_url"
      ],
      "metadata": {
        "id": "DqKxjRjZPVHX"
      },
      "execution_count": null,
      "outputs": []
    },
    {
      "cell_type": "code",
      "source": [
        "len(predicates_url)"
      ],
      "metadata": {
        "colab": {
          "base_uri": "https://localhost:8080/"
        },
        "id": "hpzHmN5oQV1B",
        "outputId": "3f81509a-4972-4214-fb89-a4c985cc54db"
      },
      "execution_count": 71,
      "outputs": [
        {
          "output_type": "execute_result",
          "data": {
            "text/plain": [
              "251"
            ]
          },
          "metadata": {},
          "execution_count": 71
        }
      ]
    },
    {
      "cell_type": "code",
      "source": [
        "rel2lbl = {rel: str(lbl) for rel, lbl in graph.predicates(RDFS.label)}\n",
        "lbl2rel = {lbl: ent for ent, lbl in rel2lbl.items()}"
      ],
      "metadata": {
        "id": "zItukAWyQc9z"
      },
      "execution_count": null,
      "outputs": []
    },
    {
      "cell_type": "code",
      "source": [
        "p = 'http://www.wikidata.org/prop/direct/P101'\n",
        "query_template = \"SELECT ?label WHERE{{<{}> rdfs:label ?label .FILTER(LANG(?label) = 'en'). }}\".format(p)\n",
        "qres = graph.query(query_template)\n",
        "\n",
        "for row in qres:\n",
        "  print(row.label)\n",
        "  p = row.label"
      ],
      "metadata": {
        "colab": {
          "base_uri": "https://localhost:8080/"
        },
        "id": "gVVklZMNQnmR",
        "outputId": "e26841c1-47be-4975-959d-ea0759f81def"
      },
      "execution_count": 88,
      "outputs": [
        {
          "output_type": "stream",
          "name": "stdout",
          "text": [
            "field of work\n"
          ]
        }
      ]
    },
    {
      "cell_type": "code",
      "source": [],
      "metadata": {
        "colab": {
          "base_uri": "https://localhost:8080/"
        },
        "id": "UBz5q8JuT3dd",
        "outputId": "a2ecb516-5c30-4213-b6b1-39ca899ecc13"
      },
      "execution_count": 58,
      "outputs": [
        {
          "output_type": "execute_result",
          "data": {
            "text/plain": [
              "<rdflib.plugins.sparql.processor.SPARQLResult at 0x7faf34325940>"
            ]
          },
          "metadata": {},
          "execution_count": 58
        }
      ]
    },
    {
      "cell_type": "code",
      "source": [
        "predicates[1]"
      ],
      "metadata": {
        "colab": {
          "base_uri": "https://localhost:8080/",
          "height": 34
        },
        "id": "lyqyOxaFVKkR",
        "outputId": "2971b072-ffc3-4fba-a82e-3d85bf9a5632"
      },
      "execution_count": 66,
      "outputs": [
        {
          "output_type": "execute_result",
          "data": {
            "text/plain": [
              "rdflib.term.URIRef('http://www.wikidata.org/prop/direct/P101')"
            ],
            "application/vnd.google.colaboratory.intrinsic+json": {
              "type": "string"
            }
          },
          "metadata": {},
          "execution_count": 66
        }
      ]
    },
    {
      "cell_type": "code",
      "source": [
        "rel2lbl = {}\n",
        "lbl2rel = {}\n",
        "\n",
        "for p in predicates_url :\n",
        "  print(p)\n",
        "  \n",
        "  query_template = \"SELECT ?label WHERE{{<{}> rdfs:label ?label .FILTER(LANG(?label) = 'en'). }}\".format(p)\n",
        "  qres = graph.query(query_template)\n",
        "  for row in qres:\n",
        "    lbl = str(row.label)\n",
        "    print(lbl)\n",
        "\n",
        "  rel2lbl[p] = lbl\n",
        "  lbl2rel[lbl] = p\n",
        "  "
      ],
      "metadata": {
        "id": "3NVBk_mzQ0ZR"
      },
      "execution_count": null,
      "outputs": []
    },
    {
      "cell_type": "code",
      "source": [
        "lbl2rel"
      ],
      "metadata": {
        "id": "rvSAAi2ZIUSV"
      },
      "execution_count": null,
      "outputs": []
    },
    {
      "cell_type": "code",
      "source": [
        "# Find the Wikidata ID for the movie (https://www.wikidata.org/wiki/Q132863 is the ID for \"Finding Nemo\")\n",
        "# Choose your own movie\n",
        "movie = WD['Q132863']\n",
        "\n",
        "# Find the movie in the graph\n",
        "movie_id = ent2id[movie]\n",
        "\n",
        "# we compare the embedding of the query entity to all other entity embeddings\n",
        "distances = pairwise_distances(entity_emb[movie_id].reshape(1, -1), entity_emb, metric='cosine').flatten()"
      ],
      "metadata": {
        "id": "oMzryOxE1wh5"
      },
      "execution_count": null,
      "outputs": []
    },
    {
      "cell_type": "code",
      "source": [
        "# Find the Wikidata ID for the movie (https://www.wikidata.org/wiki/Q132863 is the ID for \"Finding Nemo\")\n",
        "# Choose your own movie\n",
        "movie = WD['Q132863']\n",
        "\n",
        "# Find the movie in the graph\n",
        "movie_id = ent2id[movie]\n",
        "\n",
        "# we compare the embedding of the query entity to all other entity embeddings\n",
        "distances = pairwise_distances(entity_emb[movie_id].reshape(1, -1), entity_emb, metric='cosine').flatten()\n",
        "\n",
        "# and sort them by distance\n",
        "most_likely = distances.argsort()\n",
        "\n",
        "# we print rank, entity ID, entity label, and distance\n",
        "for rank, idx in enumerate(most_likely[:20]):\n",
        "    rank = rank + 1\n",
        "    ent = 'http://www.wikidata.org/entity/Q132863'\n",
        "    q_id = ent.split('/')[-1] # to convert 'http://www.wikidata.org/entity/Q132863' to 'Q132863'\n",
        "    lbl = ent2lbl[id2ent[idx]] # eg: 'Finding Nemo'\n",
        "    dist = distances[idx] # eg: 0.0\n",
        "\n",
        "    print(f'{rank:2d}. {dist:.3f} {q_id:10s} {lbl}')"
      ],
      "metadata": {
        "colab": {
          "base_uri": "https://localhost:8080/"
        },
        "id": "FGmZd3mv0vAD",
        "outputId": "c81a06a6-4350-45e7-e80d-8769812223ea"
      },
      "execution_count": null,
      "outputs": [
        {
          "output_type": "stream",
          "name": "stdout",
          "text": [
            " 1. 0.000 Q132863    Finding Nemo\n",
            " 2. 0.163 Q132863    Finding Dory\n",
            " 3. 0.187 Q132863    Up\n",
            " 4. 0.199 Q132863    WALL·E\n",
            " 5. 0.214 Q132863    Toy Story 2\n",
            " 6. 0.215 Q132863    The Little Mermaid II: Return to the Sea\n",
            " 7. 0.216 Q132863    A Bug's Life\n",
            " 8. 0.217 Q132863    Cars\n",
            " 9. 0.220 Q132863    Cars 2\n",
            "10. 0.229 Q132863    Toy Story 3\n",
            "11. 0.230 Q132863    The Good Dinosaur\n",
            "12. 0.231 Q132863    Monsters, Inc.\n",
            "13. 0.231 Q132863    Robots\n",
            "14. 0.232 Q132863    Mary and Max\n",
            "15. 0.235 Q132863    Monsters University\n",
            "16. 0.238 Q132863    Maya the Bee\n",
            "17. 0.238 Q132863    Brave\n",
            "18. 0.239 Q132863    Inside Out\n",
            "19. 0.240 Q132863    Finding Nemo – The Musical\n",
            "20. 0.240 Q132863    Toy Story\n"
          ]
        }
      ]
    },
    {
      "cell_type": "code",
      "source": [],
      "metadata": {
        "id": "aQyHj1Ir5yvP"
      },
      "execution_count": null,
      "outputs": []
    }
  ]
}